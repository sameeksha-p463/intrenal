{
 "cells": [
  {
   "cell_type": "code",
   "execution_count": 37,
   "id": "feebaf2c-2665-45f1-91ef-a143385a2338",
   "metadata": {},
   "outputs": [
    {
     "name": "stdout",
     "output_type": "stream",
     "text": [
      "First of the dataset:\n",
      "   MedInc  HouseAge  AveRooms  AveBedrms  Population  AveOccup  Latitude  \\\n",
      "0  8.3252      41.0  6.984127   1.023810       322.0  2.555556     37.88   \n",
      "1  8.3014      21.0  6.238137   0.971880      2401.0  2.109842     37.86   \n",
      "2  7.2574      52.0  8.288136   1.073446       496.0  2.802260     37.85   \n",
      "3  5.6431      52.0  5.817352   1.073059       558.0  2.547945     37.85   \n",
      "4  3.8462      52.0  6.281853   1.081081       565.0  2.181467     37.85   \n",
      "\n",
      "   Longitude  dfHouse  \n",
      "0    -122.23    4.526  \n",
      "1    -122.22    3.585  \n",
      "2    -122.24    3.521  \n",
      "3    -122.25    3.413  \n",
      "4    -122.25    3.422  \n",
      "Basic of the dataset:\n",
      "             MedInc      HouseAge      AveRooms     AveBedrms    Population  \\\n",
      "count  20640.000000  20640.000000  20640.000000  20640.000000  20640.000000   \n",
      "mean       3.870671     28.639486      5.429000      1.096675   1425.476744   \n",
      "std        1.899822     12.585558      2.474173      0.473911   1132.462122   \n",
      "min        0.499900      1.000000      0.846154      0.333333      3.000000   \n",
      "25%        2.563400     18.000000      4.440716      1.006079    787.000000   \n",
      "50%        3.534800     29.000000      5.229129      1.048780   1166.000000   \n",
      "75%        4.743250     37.000000      6.052381      1.099526   1725.000000   \n",
      "max       15.000100     52.000000    141.909091     34.066667  35682.000000   \n",
      "\n",
      "           AveOccup      Latitude     Longitude       dfHouse  \n",
      "count  20640.000000  20640.000000  20640.000000  20640.000000  \n",
      "mean       3.070655     35.631861   -119.569704      2.068558  \n",
      "std       10.386050      2.135952      2.003532      1.153956  \n",
      "min        0.692308     32.540000   -124.350000      0.149990  \n",
      "25%        2.429741     33.930000   -121.800000      1.196000  \n",
      "50%        2.818116     34.260000   -118.490000      1.797000  \n",
      "75%        3.282261     37.710000   -118.010000      2.647250  \n",
      "max     1243.333333     41.950000   -114.310000      5.000010  \n",
      "Training set shape: (16512, 8)\n",
      "Test set shape: (4128, 8)\n"
     ]
    }
   ],
   "source": [
    "import pandas as pd\n",
    "from sklearn.datasets import fetch_california_housing\n",
    "from sklearn.model_selection import train_test_split\n",
    "from sklearn.preprocessing import StandardScaler\n",
    "from sklearn.metrics  import accuracy_score\n",
    "california = fetch_california_housing()\n",
    "X = california.data\n",
    "y = california.target\n",
    "df = pd.DataFrame(X, columns=california.feature_names)\n",
    "df ['dfHouse'] = y\n",
    "print(\"First of the dataset:\")\n",
    "print(df.head())\n",
    "print(\"Basic of the dataset:\")\n",
    "print(df.describe())\n",
    "scaler = StandardScaler()\n",
    "X_scaled = scaler.fit_transform(X)\n",
    "X_train, X_test, y_train, y_test = train_test_split(X_scaled, y, test_size=0.2, random_state=42)\n",
    "print(f\"Training set shape: {X_train.shape}\")\n",
    "print(f\"Test set shape: {X_test.shape}\")"
   ]
  },
  {
   "cell_type": "code",
   "execution_count": 43,
   "id": "83a3500c-b1fe-4b95-be2f-a0038c1695c3",
   "metadata": {},
   "outputs": [
    {
     "name": "stdout",
     "output_type": "stream",
     "text": [
      "Statsmodels Summary:\n",
      "                                  OLS Regression Results                                \n",
      "=======================================================================================\n",
      "Dep. Variable:                    SEE   R-squared (uncentered):                   0.794\n",
      "Model:                            OLS   Adj. R-squared (uncentered):              0.742\n",
      "Method:                 Least Squares   F-statistic:                              15.39\n",
      "Date:                Mon, 26 Aug 2024   Prob (F-statistic):                      0.0172\n",
      "Time:                        15:10:33   Log-Likelihood:                         -32.169\n",
      "No. Observations:                   5   AIC:                                      66.34\n",
      "Df Residuals:                       4   BIC:                                      65.95\n",
      "Df Model:                           1                                                  \n",
      "Covariance Type:            nonrobust                                                  \n",
      "==============================================================================\n",
      "                 coef    std err          t      P>|t|      [0.025      0.975]\n",
      "------------------------------------------------------------------------------\n",
      "CIE            0.8909      0.227      3.923      0.017       0.260       1.521\n",
      "==============================================================================\n",
      "Omnibus:                          nan   Durbin-Watson:                   2.188\n",
      "Prob(Omnibus):                    nan   Jarque-Bera (JB):                1.593\n",
      "Skew:                          -1.382   Prob(JB):                        0.451\n",
      "Kurtosis:                       3.074   Cond. No.                         1.00\n",
      "==============================================================================\n",
      "\n",
      "Notes:\n",
      "[1] R² is computed without centering (uncentered) since the model does not contain a constant.\n",
      "[2] Standard Errors assume that the covariance matrix of the errors is correctly specified.\n",
      "training data:\n",
      "   CIE\n",
      "4  500\n",
      "2  300\n",
      "0  100\n",
      "3  400\n",
      "testing data:\n",
      "   CIE\n",
      "1  200\n",
      " data MSE: 3265.3061224489825\n",
      "data  R^2_score: nan\n",
      " Coefficient: 0.4571428571428572\n",
      "Intercept: 151.42857142857142\n"
     ]
    },
    {
     "name": "stderr",
     "output_type": "stream",
     "text": [
      "C:\\Users\\Lachu\\anaconda3\\Lib\\site-packages\\statsmodels\\stats\\stattools.py:74: ValueWarning: omni_normtest is not valid with less than 8 observations; 5 samples were given.\n",
      "  warn(\"omni_normtest is not valid with less than 8 observations; %i \"\n",
      "C:\\Users\\Lachu\\anaconda3\\Lib\\site-packages\\sklearn\\metrics\\_regression.py:1187: UndefinedMetricWarning: R^2 score is not well-defined with less than two samples.\n",
      "  warnings.warn(msg, UndefinedMetricWarning)\n"
     ]
    }
   ],
   "source": [
    "import pandas as pd\n",
    "import statsmodels.api as sm\n",
    "from sklearn.linear_model import LinearRegression\n",
    "from sklearn.model_selection import train_test_split\n",
    "from sklearn.metrics import mean_squared_error, r2_score\n",
    "data = pd.DataFrame({\n",
    "    'CIE': [100,200,300,400,500],\n",
    "    'SEE': [200,300,400,100,500]\n",
    "})\n",
    "X = data[['CIE']]\n",
    "y = data['SEE']\n",
    "X_sm = sm.add_constant(X)\n",
    "model = sm.OLS(y, X).fit()\n",
    "print(\"Statsmodels Summary:\\n\", model.summary())\n",
    "X_train, X_test, y_train, y_test = train_test_split(X, y, test_size=0.2, random_state=42)\n",
    "model = LinearRegression().fit(X_train, y_train)\n",
    "y_pred = model.predict(X_test)\n",
    "print(\"training data:\")\n",
    "print(X_train)\n",
    "print(\"testing data:\")\n",
    "print(X_test)\n",
    "print(\" data MSE:\", mean_squared_error(y_test, y_pred))\n",
    "print(\"data  R^2_score:\", r2_score(y_test, y_pred))\n",
    "print(\" Coefficient:\", model.coef_[0])\n",
    "print(\"Intercept:\", model.intercept_)\n"
   ]
  },
  {
   "cell_type": "code",
   "execution_count": null,
   "id": "7bbe8115-b743-4af2-8374-fbe2b7bfe2ed",
   "metadata": {},
   "outputs": [],
   "source": []
  }
 ],
 "metadata": {
  "kernelspec": {
   "display_name": "Python 3 (ipykernel)",
   "language": "python",
   "name": "python3"
  },
  "language_info": {
   "codemirror_mode": {
    "name": "ipython",
    "version": 3
   },
   "file_extension": ".py",
   "mimetype": "text/x-python",
   "name": "python",
   "nbconvert_exporter": "python",
   "pygments_lexer": "ipython3",
   "version": "3.12.4"
  }
 },
 "nbformat": 4,
 "nbformat_minor": 5
}
